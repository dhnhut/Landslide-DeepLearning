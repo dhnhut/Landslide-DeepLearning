{
 "cells": [
  {
   "cell_type": "markdown",
   "id": "758bb97d",
   "metadata": {},
   "source": [
    "# Data Explore"
   ]
  },
  {
   "cell_type": "code",
   "execution_count": 122,
   "id": "60ab8caa",
   "metadata": {},
   "outputs": [
    {
     "data": {
      "text/html": [
       "\n",
       "            <style>\n",
       "                .geemap-dark {\n",
       "                    --jp-widgets-color: white;\n",
       "                    --jp-widgets-label-color: white;\n",
       "                    --jp-ui-font-color1: white;\n",
       "                    --jp-layout-color2: #454545;\n",
       "                    background-color: #383838;\n",
       "                }\n",
       "\n",
       "                .geemap-dark .jupyter-button {\n",
       "                    --jp-layout-color3: #383838;\n",
       "                }\n",
       "\n",
       "                .geemap-colab {\n",
       "                    background-color: var(--colab-primary-surface-color, white);\n",
       "                }\n",
       "\n",
       "                .geemap-colab .jupyter-button {\n",
       "                    --jp-layout-color3: var(--colab-primary-surface-color, white);\n",
       "                }\n",
       "            </style>\n",
       "            "
      ],
      "text/plain": [
       "<IPython.core.display.HTML object>"
      ]
     },
     "metadata": {},
     "output_type": "display_data"
    }
   ],
   "source": [
    "import os\n",
    "import ee\n",
    "import geemap.core as geemap\n",
    "\n",
    "import pandas as pd\n",
    "import geopandas as gpd"
   ]
  },
  {
   "cell_type": "code",
   "execution_count": 123,
   "id": "222a6136",
   "metadata": {},
   "outputs": [
    {
     "data": {
      "text/html": [
       "\n",
       "            <style>\n",
       "                .geemap-dark {\n",
       "                    --jp-widgets-color: white;\n",
       "                    --jp-widgets-label-color: white;\n",
       "                    --jp-ui-font-color1: white;\n",
       "                    --jp-layout-color2: #454545;\n",
       "                    background-color: #383838;\n",
       "                }\n",
       "\n",
       "                .geemap-dark .jupyter-button {\n",
       "                    --jp-layout-color3: #383838;\n",
       "                }\n",
       "\n",
       "                .geemap-colab {\n",
       "                    background-color: var(--colab-primary-surface-color, white);\n",
       "                }\n",
       "\n",
       "                .geemap-colab .jupyter-button {\n",
       "                    --jp-layout-color3: var(--colab-primary-surface-color, white);\n",
       "                }\n",
       "            </style>\n",
       "            "
      ],
      "text/plain": [
       "<IPython.core.display.HTML object>"
      ]
     },
     "metadata": {},
     "output_type": "display_data"
    }
   ],
   "source": [
    "import sys\n",
    "sys.path.append('..')\n",
    "from libs.sentinel import mask_s2_clouds"
   ]
  },
  {
   "cell_type": "code",
   "execution_count": 124,
   "id": "0af961a2",
   "metadata": {},
   "outputs": [
    {
     "data": {
      "text/html": [
       "\n",
       "            <style>\n",
       "                .geemap-dark {\n",
       "                    --jp-widgets-color: white;\n",
       "                    --jp-widgets-label-color: white;\n",
       "                    --jp-ui-font-color1: white;\n",
       "                    --jp-layout-color2: #454545;\n",
       "                    background-color: #383838;\n",
       "                }\n",
       "\n",
       "                .geemap-dark .jupyter-button {\n",
       "                    --jp-layout-color3: #383838;\n",
       "                }\n",
       "\n",
       "                .geemap-colab {\n",
       "                    background-color: var(--colab-primary-surface-color, white);\n",
       "                }\n",
       "\n",
       "                .geemap-colab .jupyter-button {\n",
       "                    --jp-layout-color3: var(--colab-primary-surface-color, white);\n",
       "                }\n",
       "            </style>\n",
       "            "
      ],
      "text/plain": [
       "<IPython.core.display.HTML object>"
      ]
     },
     "metadata": {},
     "output_type": "display_data"
    }
   ],
   "source": [
    "if 'google.colab' in str(get_ipython()):\n",
    "    from google.colab import userdata\n",
    "    EE_PROJECT_ID = userdata.get('EE_PROJECT_ID') \n",
    "else:\n",
    "    from dotenv import load_dotenv\n",
    "    load_dotenv()  # take environment variables\n",
    "    EE_PROJECT_ID = os.getenv('EE_PROJECT_ID')\n",
    "\n",
    "# Set up GEE API\n",
    "ee.Authenticate()\n",
    "ee.Initialize(project=EE_PROJECT_ID) #<- Remember to change this to your own project's name!"
   ]
  },
  {
   "cell_type": "markdown",
   "id": "fdb1b960",
   "metadata": {},
   "source": [
    "# Load data"
   ]
  },
  {
   "cell_type": "code",
   "execution_count": 125,
   "id": "e39213f0",
   "metadata": {},
   "outputs": [
    {
     "data": {
      "text/html": [
       "\n",
       "            <style>\n",
       "                .geemap-dark {\n",
       "                    --jp-widgets-color: white;\n",
       "                    --jp-widgets-label-color: white;\n",
       "                    --jp-ui-font-color1: white;\n",
       "                    --jp-layout-color2: #454545;\n",
       "                    background-color: #383838;\n",
       "                }\n",
       "\n",
       "                .geemap-dark .jupyter-button {\n",
       "                    --jp-layout-color3: #383838;\n",
       "                }\n",
       "\n",
       "                .geemap-colab {\n",
       "                    background-color: var(--colab-primary-surface-color, white);\n",
       "                }\n",
       "\n",
       "                .geemap-colab .jupyter-button {\n",
       "                    --jp-layout-color3: var(--colab-primary-surface-color, white);\n",
       "                }\n",
       "            </style>\n",
       "            "
      ],
      "text/plain": [
       "<IPython.core.display.HTML object>"
      ]
     },
     "metadata": {},
     "output_type": "display_data"
    },
    {
     "data": {
      "text/html": [
       "<div>\n",
       "<style scoped>\n",
       "    .dataframe tbody tr th:only-of-type {\n",
       "        vertical-align: middle;\n",
       "    }\n",
       "\n",
       "    .dataframe tbody tr th {\n",
       "        vertical-align: top;\n",
       "    }\n",
       "\n",
       "    .dataframe thead th {\n",
       "        text-align: right;\n",
       "    }\n",
       "</style>\n",
       "<table border=\"1\" class=\"dataframe\">\n",
       "  <thead>\n",
       "    <tr style=\"text-align: right;\">\n",
       "      <th></th>\n",
       "      <th>GlobalID</th>\n",
       "      <th>latitude</th>\n",
       "      <th>longitude</th>\n",
       "      <th>region</th>\n",
       "      <th>dateoccurence</th>\n",
       "      <th>closestdate</th>\n",
       "      <th>geometry</th>\n",
       "    </tr>\n",
       "  </thead>\n",
       "  <tbody>\n",
       "    <tr>\n",
       "      <th>0</th>\n",
       "      <td>cb20f8d7-abeb-4ce5-bafa-a75c01b03136</td>\n",
       "      <td>-36.931306</td>\n",
       "      <td>174.701880</td>\n",
       "      <td>Auckland Region</td>\n",
       "      <td>2023-02-13 23:00:00</td>\n",
       "      <td>2023-02-13 23:00:00</td>\n",
       "      <td>POINT (174.70188 -36.93131)</td>\n",
       "    </tr>\n",
       "    <tr>\n",
       "      <th>1</th>\n",
       "      <td>9da581bc-ff20-454f-b6fb-721279cd347a</td>\n",
       "      <td>-36.924269</td>\n",
       "      <td>174.705747</td>\n",
       "      <td>Auckland Region</td>\n",
       "      <td>2023-01-30 23:00:00</td>\n",
       "      <td>2023-01-30 23:00:00</td>\n",
       "      <td>POINT (174.70575 -36.92427)</td>\n",
       "    </tr>\n",
       "    <tr>\n",
       "      <th>2</th>\n",
       "      <td>2a361da4-7adf-4f4d-b94c-f3cf9ccccc46</td>\n",
       "      <td>-36.867368</td>\n",
       "      <td>174.738318</td>\n",
       "      <td>Auckland Region</td>\n",
       "      <td>2023-01-31 23:00:00</td>\n",
       "      <td>2023-01-31 23:00:00</td>\n",
       "      <td>POINT (174.73832 -36.86737)</td>\n",
       "    </tr>\n",
       "    <tr>\n",
       "      <th>3</th>\n",
       "      <td>4470b30b-6c80-46be-b0f7-e4ec0a5d72fd</td>\n",
       "      <td>-36.861593</td>\n",
       "      <td>174.655298</td>\n",
       "      <td>Auckland Region</td>\n",
       "      <td>2023-02-13 23:00:00</td>\n",
       "      <td>2023-02-13 23:00:00</td>\n",
       "      <td>POINT (174.6553 -36.86159)</td>\n",
       "    </tr>\n",
       "    <tr>\n",
       "      <th>4</th>\n",
       "      <td>cfcff56a-7cc6-41f5-9e7e-8da0daa5dbde</td>\n",
       "      <td>-36.817738</td>\n",
       "      <td>174.728127</td>\n",
       "      <td>Auckland Region</td>\n",
       "      <td>2023-01-31 23:00:00</td>\n",
       "      <td>2023-01-31 23:00:00</td>\n",
       "      <td>POINT (174.72813 -36.81774)</td>\n",
       "    </tr>\n",
       "    <tr>\n",
       "      <th>...</th>\n",
       "      <td>...</td>\n",
       "      <td>...</td>\n",
       "      <td>...</td>\n",
       "      <td>...</td>\n",
       "      <td>...</td>\n",
       "      <td>...</td>\n",
       "      <td>...</td>\n",
       "    </tr>\n",
       "    <tr>\n",
       "      <th>11911</th>\n",
       "      <td>8ac9ffa6-d365-4cb0-bc15-e54c10a63d8b</td>\n",
       "      <td>-36.807419</td>\n",
       "      <td>174.690856</td>\n",
       "      <td>Auckland Region</td>\n",
       "      <td>2023-01-26 11:00:00</td>\n",
       "      <td>2023-01-26 11:00:00</td>\n",
       "      <td>POINT (174.69086 -36.80742)</td>\n",
       "    </tr>\n",
       "    <tr>\n",
       "      <th>11912</th>\n",
       "      <td>2801a385-dc6a-44b3-9355-64140b2f1929</td>\n",
       "      <td>-37.133864</td>\n",
       "      <td>174.706530</td>\n",
       "      <td>Auckland Region</td>\n",
       "      <td>2023-01-26 11:00:00</td>\n",
       "      <td>2023-01-26 11:00:00</td>\n",
       "      <td>POINT (174.70653 -37.13386)</td>\n",
       "    </tr>\n",
       "    <tr>\n",
       "      <th>11913</th>\n",
       "      <td>c8cc9f20-efac-41b4-bf62-55a625a2ab6e</td>\n",
       "      <td>-36.938192</td>\n",
       "      <td>174.629223</td>\n",
       "      <td>Auckland Region</td>\n",
       "      <td>2023-01-26 11:00:00</td>\n",
       "      <td>2023-01-26 11:00:00</td>\n",
       "      <td>POINT (174.62922 -36.93819)</td>\n",
       "    </tr>\n",
       "    <tr>\n",
       "      <th>11914</th>\n",
       "      <td>fa946895-4967-4a14-9b59-48dd0898766e</td>\n",
       "      <td>-36.944683</td>\n",
       "      <td>174.663084</td>\n",
       "      <td>Auckland Region</td>\n",
       "      <td>2023-01-27 11:00:00</td>\n",
       "      <td>2023-01-27 08:00:00</td>\n",
       "      <td>POINT (174.66308 -36.94468)</td>\n",
       "    </tr>\n",
       "    <tr>\n",
       "      <th>11915</th>\n",
       "      <td>2a7dcb96-42c9-49a8-b529-3302afee7b62</td>\n",
       "      <td>-36.865872</td>\n",
       "      <td>174.797044</td>\n",
       "      <td>Auckland Region</td>\n",
       "      <td>2023-01-26 11:00:00</td>\n",
       "      <td>2023-01-26 11:00:00</td>\n",
       "      <td>POINT (174.79704 -36.86587)</td>\n",
       "    </tr>\n",
       "  </tbody>\n",
       "</table>\n",
       "<p>159 rows × 7 columns</p>\n",
       "</div>"
      ],
      "text/plain": [
       "                                   GlobalID   latitude   longitude  \\\n",
       "0      cb20f8d7-abeb-4ce5-bafa-a75c01b03136 -36.931306  174.701880   \n",
       "1      9da581bc-ff20-454f-b6fb-721279cd347a -36.924269  174.705747   \n",
       "2      2a361da4-7adf-4f4d-b94c-f3cf9ccccc46 -36.867368  174.738318   \n",
       "3      4470b30b-6c80-46be-b0f7-e4ec0a5d72fd -36.861593  174.655298   \n",
       "4      cfcff56a-7cc6-41f5-9e7e-8da0daa5dbde -36.817738  174.728127   \n",
       "...                                     ...        ...         ...   \n",
       "11911  8ac9ffa6-d365-4cb0-bc15-e54c10a63d8b -36.807419  174.690856   \n",
       "11912  2801a385-dc6a-44b3-9355-64140b2f1929 -37.133864  174.706530   \n",
       "11913  c8cc9f20-efac-41b4-bf62-55a625a2ab6e -36.938192  174.629223   \n",
       "11914  fa946895-4967-4a14-9b59-48dd0898766e -36.944683  174.663084   \n",
       "11915  2a7dcb96-42c9-49a8-b529-3302afee7b62 -36.865872  174.797044   \n",
       "\n",
       "                region       dateoccurence         closestdate  \\\n",
       "0      Auckland Region 2023-02-13 23:00:00 2023-02-13 23:00:00   \n",
       "1      Auckland Region 2023-01-30 23:00:00 2023-01-30 23:00:00   \n",
       "2      Auckland Region 2023-01-31 23:00:00 2023-01-31 23:00:00   \n",
       "3      Auckland Region 2023-02-13 23:00:00 2023-02-13 23:00:00   \n",
       "4      Auckland Region 2023-01-31 23:00:00 2023-01-31 23:00:00   \n",
       "...                ...                 ...                 ...   \n",
       "11911  Auckland Region 2023-01-26 11:00:00 2023-01-26 11:00:00   \n",
       "11912  Auckland Region 2023-01-26 11:00:00 2023-01-26 11:00:00   \n",
       "11913  Auckland Region 2023-01-26 11:00:00 2023-01-26 11:00:00   \n",
       "11914  Auckland Region 2023-01-27 11:00:00 2023-01-27 08:00:00   \n",
       "11915  Auckland Region 2023-01-26 11:00:00 2023-01-26 11:00:00   \n",
       "\n",
       "                          geometry  \n",
       "0      POINT (174.70188 -36.93131)  \n",
       "1      POINT (174.70575 -36.92427)  \n",
       "2      POINT (174.73832 -36.86737)  \n",
       "3       POINT (174.6553 -36.86159)  \n",
       "4      POINT (174.72813 -36.81774)  \n",
       "...                            ...  \n",
       "11911  POINT (174.69086 -36.80742)  \n",
       "11912  POINT (174.70653 -37.13386)  \n",
       "11913  POINT (174.62922 -36.93819)  \n",
       "11914  POINT (174.66308 -36.94468)  \n",
       "11915  POINT (174.79704 -36.86587)  \n",
       "\n",
       "[159 rows x 7 columns]"
      ]
     },
     "execution_count": 125,
     "metadata": {},
     "output_type": "execute_result"
    }
   ],
   "source": [
    "directory = 'data/NZ_landslide_inventory/'\n",
    "auckland_filepath = f'{directory}/cleaned_auckland.gpkg'\n",
    "gdf = gpd.read_file(auckland_filepath, layer='landslides')\n",
    "gdf[gdf['dateoccurence'].notnull()]"
   ]
  },
  {
   "cell_type": "code",
   "execution_count": 126,
   "id": "2236a62d",
   "metadata": {},
   "outputs": [
    {
     "data": {
      "text/html": [
       "\n",
       "            <style>\n",
       "                .geemap-dark {\n",
       "                    --jp-widgets-color: white;\n",
       "                    --jp-widgets-label-color: white;\n",
       "                    --jp-ui-font-color1: white;\n",
       "                    --jp-layout-color2: #454545;\n",
       "                    background-color: #383838;\n",
       "                }\n",
       "\n",
       "                .geemap-dark .jupyter-button {\n",
       "                    --jp-layout-color3: #383838;\n",
       "                }\n",
       "\n",
       "                .geemap-colab {\n",
       "                    background-color: var(--colab-primary-surface-color, white);\n",
       "                }\n",
       "\n",
       "                .geemap-colab .jupyter-button {\n",
       "                    --jp-layout-color3: var(--colab-primary-surface-color, white);\n",
       "                }\n",
       "            </style>\n",
       "            "
      ],
      "text/plain": [
       "<IPython.core.display.HTML object>"
      ]
     },
     "metadata": {},
     "output_type": "display_data"
    }
   ],
   "source": [
    "gdf_jan = gdf[(gdf['dateoccurence'] >= '2023-01-01') & (gdf['dateoccurence'] < '2023-02-28')]\n",
    "jan_gdf = gdf_jan.reset_index(drop=True)"
   ]
  },
  {
   "cell_type": "code",
   "execution_count": 127,
   "id": "9535ef62",
   "metadata": {},
   "outputs": [
    {
     "data": {
      "text/html": [
       "\n",
       "            <style>\n",
       "                .geemap-dark {\n",
       "                    --jp-widgets-color: white;\n",
       "                    --jp-widgets-label-color: white;\n",
       "                    --jp-ui-font-color1: white;\n",
       "                    --jp-layout-color2: #454545;\n",
       "                    background-color: #383838;\n",
       "                }\n",
       "\n",
       "                .geemap-dark .jupyter-button {\n",
       "                    --jp-layout-color3: #383838;\n",
       "                }\n",
       "\n",
       "                .geemap-colab {\n",
       "                    background-color: var(--colab-primary-surface-color, white);\n",
       "                }\n",
       "\n",
       "                .geemap-colab .jupyter-button {\n",
       "                    --jp-layout-color3: var(--colab-primary-surface-color, white);\n",
       "                }\n",
       "            </style>\n",
       "            "
      ],
      "text/plain": [
       "<IPython.core.display.HTML object>"
      ]
     },
     "metadata": {},
     "output_type": "display_data"
    },
    {
     "data": {
      "text/html": [
       "<div>\n",
       "<style scoped>\n",
       "    .dataframe tbody tr th:only-of-type {\n",
       "        vertical-align: middle;\n",
       "    }\n",
       "\n",
       "    .dataframe tbody tr th {\n",
       "        vertical-align: top;\n",
       "    }\n",
       "\n",
       "    .dataframe thead th {\n",
       "        text-align: right;\n",
       "    }\n",
       "</style>\n",
       "<table border=\"1\" class=\"dataframe\">\n",
       "  <thead>\n",
       "    <tr style=\"text-align: right;\">\n",
       "      <th></th>\n",
       "      <th>GlobalID</th>\n",
       "      <th>latitude</th>\n",
       "      <th>longitude</th>\n",
       "      <th>region</th>\n",
       "      <th>dateoccurence</th>\n",
       "      <th>closestdate</th>\n",
       "      <th>geometry</th>\n",
       "    </tr>\n",
       "  </thead>\n",
       "  <tbody>\n",
       "    <tr>\n",
       "      <th>0</th>\n",
       "      <td>cb20f8d7-abeb-4ce5-bafa-a75c01b03136</td>\n",
       "      <td>-36.931306</td>\n",
       "      <td>174.701880</td>\n",
       "      <td>Auckland Region</td>\n",
       "      <td>2023-02-13 23:00:00</td>\n",
       "      <td>2023-02-13 23:00:00</td>\n",
       "      <td>POINT (174.70188 -36.93131)</td>\n",
       "    </tr>\n",
       "    <tr>\n",
       "      <th>1</th>\n",
       "      <td>9da581bc-ff20-454f-b6fb-721279cd347a</td>\n",
       "      <td>-36.924269</td>\n",
       "      <td>174.705747</td>\n",
       "      <td>Auckland Region</td>\n",
       "      <td>2023-01-30 23:00:00</td>\n",
       "      <td>2023-01-30 23:00:00</td>\n",
       "      <td>POINT (174.70575 -36.92427)</td>\n",
       "    </tr>\n",
       "    <tr>\n",
       "      <th>2</th>\n",
       "      <td>2a361da4-7adf-4f4d-b94c-f3cf9ccccc46</td>\n",
       "      <td>-36.867368</td>\n",
       "      <td>174.738318</td>\n",
       "      <td>Auckland Region</td>\n",
       "      <td>2023-01-31 23:00:00</td>\n",
       "      <td>2023-01-31 23:00:00</td>\n",
       "      <td>POINT (174.73832 -36.86737)</td>\n",
       "    </tr>\n",
       "    <tr>\n",
       "      <th>3</th>\n",
       "      <td>4470b30b-6c80-46be-b0f7-e4ec0a5d72fd</td>\n",
       "      <td>-36.861593</td>\n",
       "      <td>174.655298</td>\n",
       "      <td>Auckland Region</td>\n",
       "      <td>2023-02-13 23:00:00</td>\n",
       "      <td>2023-02-13 23:00:00</td>\n",
       "      <td>POINT (174.6553 -36.86159)</td>\n",
       "    </tr>\n",
       "    <tr>\n",
       "      <th>4</th>\n",
       "      <td>cfcff56a-7cc6-41f5-9e7e-8da0daa5dbde</td>\n",
       "      <td>-36.817738</td>\n",
       "      <td>174.728127</td>\n",
       "      <td>Auckland Region</td>\n",
       "      <td>2023-01-31 23:00:00</td>\n",
       "      <td>2023-01-31 23:00:00</td>\n",
       "      <td>POINT (174.72813 -36.81774)</td>\n",
       "    </tr>\n",
       "    <tr>\n",
       "      <th>...</th>\n",
       "      <td>...</td>\n",
       "      <td>...</td>\n",
       "      <td>...</td>\n",
       "      <td>...</td>\n",
       "      <td>...</td>\n",
       "      <td>...</td>\n",
       "      <td>...</td>\n",
       "    </tr>\n",
       "    <tr>\n",
       "      <th>11911</th>\n",
       "      <td>8ac9ffa6-d365-4cb0-bc15-e54c10a63d8b</td>\n",
       "      <td>-36.807419</td>\n",
       "      <td>174.690856</td>\n",
       "      <td>Auckland Region</td>\n",
       "      <td>2023-01-26 11:00:00</td>\n",
       "      <td>2023-01-26 11:00:00</td>\n",
       "      <td>POINT (174.69086 -36.80742)</td>\n",
       "    </tr>\n",
       "    <tr>\n",
       "      <th>11912</th>\n",
       "      <td>2801a385-dc6a-44b3-9355-64140b2f1929</td>\n",
       "      <td>-37.133864</td>\n",
       "      <td>174.706530</td>\n",
       "      <td>Auckland Region</td>\n",
       "      <td>2023-01-26 11:00:00</td>\n",
       "      <td>2023-01-26 11:00:00</td>\n",
       "      <td>POINT (174.70653 -37.13386)</td>\n",
       "    </tr>\n",
       "    <tr>\n",
       "      <th>11913</th>\n",
       "      <td>c8cc9f20-efac-41b4-bf62-55a625a2ab6e</td>\n",
       "      <td>-36.938192</td>\n",
       "      <td>174.629223</td>\n",
       "      <td>Auckland Region</td>\n",
       "      <td>2023-01-26 11:00:00</td>\n",
       "      <td>2023-01-26 11:00:00</td>\n",
       "      <td>POINT (174.62922 -36.93819)</td>\n",
       "    </tr>\n",
       "    <tr>\n",
       "      <th>11914</th>\n",
       "      <td>fa946895-4967-4a14-9b59-48dd0898766e</td>\n",
       "      <td>-36.944683</td>\n",
       "      <td>174.663084</td>\n",
       "      <td>Auckland Region</td>\n",
       "      <td>2023-01-27 11:00:00</td>\n",
       "      <td>2023-01-27 08:00:00</td>\n",
       "      <td>POINT (174.66308 -36.94468)</td>\n",
       "    </tr>\n",
       "    <tr>\n",
       "      <th>11915</th>\n",
       "      <td>2a7dcb96-42c9-49a8-b529-3302afee7b62</td>\n",
       "      <td>-36.865872</td>\n",
       "      <td>174.797044</td>\n",
       "      <td>Auckland Region</td>\n",
       "      <td>2023-01-26 11:00:00</td>\n",
       "      <td>2023-01-26 11:00:00</td>\n",
       "      <td>POINT (174.79704 -36.86587)</td>\n",
       "    </tr>\n",
       "  </tbody>\n",
       "</table>\n",
       "<p>152 rows × 7 columns</p>\n",
       "</div>"
      ],
      "text/plain": [
       "                                   GlobalID   latitude   longitude  \\\n",
       "0      cb20f8d7-abeb-4ce5-bafa-a75c01b03136 -36.931306  174.701880   \n",
       "1      9da581bc-ff20-454f-b6fb-721279cd347a -36.924269  174.705747   \n",
       "2      2a361da4-7adf-4f4d-b94c-f3cf9ccccc46 -36.867368  174.738318   \n",
       "3      4470b30b-6c80-46be-b0f7-e4ec0a5d72fd -36.861593  174.655298   \n",
       "4      cfcff56a-7cc6-41f5-9e7e-8da0daa5dbde -36.817738  174.728127   \n",
       "...                                     ...        ...         ...   \n",
       "11911  8ac9ffa6-d365-4cb0-bc15-e54c10a63d8b -36.807419  174.690856   \n",
       "11912  2801a385-dc6a-44b3-9355-64140b2f1929 -37.133864  174.706530   \n",
       "11913  c8cc9f20-efac-41b4-bf62-55a625a2ab6e -36.938192  174.629223   \n",
       "11914  fa946895-4967-4a14-9b59-48dd0898766e -36.944683  174.663084   \n",
       "11915  2a7dcb96-42c9-49a8-b529-3302afee7b62 -36.865872  174.797044   \n",
       "\n",
       "                region       dateoccurence         closestdate  \\\n",
       "0      Auckland Region 2023-02-13 23:00:00 2023-02-13 23:00:00   \n",
       "1      Auckland Region 2023-01-30 23:00:00 2023-01-30 23:00:00   \n",
       "2      Auckland Region 2023-01-31 23:00:00 2023-01-31 23:00:00   \n",
       "3      Auckland Region 2023-02-13 23:00:00 2023-02-13 23:00:00   \n",
       "4      Auckland Region 2023-01-31 23:00:00 2023-01-31 23:00:00   \n",
       "...                ...                 ...                 ...   \n",
       "11911  Auckland Region 2023-01-26 11:00:00 2023-01-26 11:00:00   \n",
       "11912  Auckland Region 2023-01-26 11:00:00 2023-01-26 11:00:00   \n",
       "11913  Auckland Region 2023-01-26 11:00:00 2023-01-26 11:00:00   \n",
       "11914  Auckland Region 2023-01-27 11:00:00 2023-01-27 08:00:00   \n",
       "11915  Auckland Region 2023-01-26 11:00:00 2023-01-26 11:00:00   \n",
       "\n",
       "                          geometry  \n",
       "0      POINT (174.70188 -36.93131)  \n",
       "1      POINT (174.70575 -36.92427)  \n",
       "2      POINT (174.73832 -36.86737)  \n",
       "3       POINT (174.6553 -36.86159)  \n",
       "4      POINT (174.72813 -36.81774)  \n",
       "...                            ...  \n",
       "11911  POINT (174.69086 -36.80742)  \n",
       "11912  POINT (174.70653 -37.13386)  \n",
       "11913  POINT (174.62922 -36.93819)  \n",
       "11914  POINT (174.66308 -36.94468)  \n",
       "11915  POINT (174.79704 -36.86587)  \n",
       "\n",
       "[152 rows x 7 columns]"
      ]
     },
     "execution_count": 127,
     "metadata": {},
     "output_type": "execute_result"
    }
   ],
   "source": [
    "gdf_jan"
   ]
  },
  {
   "cell_type": "code",
   "execution_count": 144,
   "id": "c53b808a",
   "metadata": {},
   "outputs": [
    {
     "data": {
      "text/html": [
       "\n",
       "            <style>\n",
       "                .geemap-dark {\n",
       "                    --jp-widgets-color: white;\n",
       "                    --jp-widgets-label-color: white;\n",
       "                    --jp-ui-font-color1: white;\n",
       "                    --jp-layout-color2: #454545;\n",
       "                    background-color: #383838;\n",
       "                }\n",
       "\n",
       "                .geemap-dark .jupyter-button {\n",
       "                    --jp-layout-color3: #383838;\n",
       "                }\n",
       "\n",
       "                .geemap-colab {\n",
       "                    background-color: var(--colab-primary-surface-color, white);\n",
       "                }\n",
       "\n",
       "                .geemap-colab .jupyter-button {\n",
       "                    --jp-layout-color3: var(--colab-primary-surface-color, white);\n",
       "                }\n",
       "            </style>\n",
       "            "
      ],
      "text/plain": [
       "<IPython.core.display.HTML object>"
      ]
     },
     "metadata": {},
     "output_type": "display_data"
    }
   ],
   "source": [
    "idx = 0\n",
    "event = gdf_jan.iloc[idx]\n",
    "point = event.geometry.centroid\n",
    "points = gdf_jan.geometry.centroid\n",
    "start_date = gdf_jan['dateoccurence'].min().date().strftime(\"%Y-%m-%d\")\n",
    "end_date = ( gdf_jan['dateoccurence'].min().date() + pd.Timedelta(days=91)).strftime(\"%Y-%m-%d\")\n",
    "point = ee.Geometry.Point(point.x, point.y)"
   ]
  },
  {
   "cell_type": "code",
   "execution_count": 145,
   "id": "7d2707dd",
   "metadata": {},
   "outputs": [
    {
     "data": {
      "text/html": [
       "\n",
       "            <style>\n",
       "                .geemap-dark {\n",
       "                    --jp-widgets-color: white;\n",
       "                    --jp-widgets-label-color: white;\n",
       "                    --jp-ui-font-color1: white;\n",
       "                    --jp-layout-color2: #454545;\n",
       "                    background-color: #383838;\n",
       "                }\n",
       "\n",
       "                .geemap-dark .jupyter-button {\n",
       "                    --jp-layout-color3: #383838;\n",
       "                }\n",
       "\n",
       "                .geemap-colab {\n",
       "                    background-color: var(--colab-primary-surface-color, white);\n",
       "                }\n",
       "\n",
       "                .geemap-colab .jupyter-button {\n",
       "                    --jp-layout-color3: var(--colab-primary-surface-color, white);\n",
       "                }\n",
       "            </style>\n",
       "            "
      ],
      "text/plain": [
       "<IPython.core.display.HTML object>"
      ]
     },
     "metadata": {},
     "output_type": "display_data"
    },
    {
     "data": {
      "text/plain": [
       "('2023-01-26', '2023-04-27')"
      ]
     },
     "execution_count": 145,
     "metadata": {},
     "output_type": "execute_result"
    }
   ],
   "source": [
    "start_date, end_date"
   ]
  },
  {
   "cell_type": "code",
   "execution_count": 146,
   "id": "cc6d7319",
   "metadata": {},
   "outputs": [
    {
     "data": {
      "text/html": [
       "\n",
       "            <style>\n",
       "                .geemap-dark {\n",
       "                    --jp-widgets-color: white;\n",
       "                    --jp-widgets-label-color: white;\n",
       "                    --jp-ui-font-color1: white;\n",
       "                    --jp-layout-color2: #454545;\n",
       "                    background-color: #383838;\n",
       "                }\n",
       "\n",
       "                .geemap-dark .jupyter-button {\n",
       "                    --jp-layout-color3: #383838;\n",
       "                }\n",
       "\n",
       "                .geemap-colab {\n",
       "                    background-color: var(--colab-primary-surface-color, white);\n",
       "                }\n",
       "\n",
       "                .geemap-colab .jupyter-button {\n",
       "                    --jp-layout-color3: var(--colab-primary-surface-color, white);\n",
       "                }\n",
       "            </style>\n",
       "            "
      ],
      "text/plain": [
       "<IPython.core.display.HTML object>"
      ]
     },
     "metadata": {},
     "output_type": "display_data"
    }
   ],
   "source": [
    "dataset = (\n",
    "    ee.ImageCollection('COPERNICUS/S2_SR_HARMONIZED')\n",
    "    .filterDate(start_date, end_date)\n",
    "    # Pre-filter to get less cloudy granules.\n",
    "    .filter(ee.Filter.lt('CLOUDY_PIXEL_PERCENTAGE', 50))\n",
    "    .map(mask_s2_clouds)\n",
    ")\n",
    "\n",
    "visualization = {\n",
    "    'min': 0.0,\n",
    "    'max': 0.3,\n",
    "    'bands': ['B4', 'B3', 'B2'],\n",
    "}"
   ]
  },
  {
   "cell_type": "code",
   "execution_count": 147,
   "id": "0cbc0a0d",
   "metadata": {},
   "outputs": [
    {
     "data": {
      "text/html": [
       "\n",
       "            <style>\n",
       "                .geemap-dark {\n",
       "                    --jp-widgets-color: white;\n",
       "                    --jp-widgets-label-color: white;\n",
       "                    --jp-ui-font-color1: white;\n",
       "                    --jp-layout-color2: #454545;\n",
       "                    background-color: #383838;\n",
       "                }\n",
       "\n",
       "                .geemap-dark .jupyter-button {\n",
       "                    --jp-layout-color3: #383838;\n",
       "                }\n",
       "\n",
       "                .geemap-colab {\n",
       "                    background-color: var(--colab-primary-surface-color, white);\n",
       "                }\n",
       "\n",
       "                .geemap-colab .jupyter-button {\n",
       "                    --jp-layout-color3: var(--colab-primary-surface-color, white);\n",
       "                }\n",
       "            </style>\n",
       "            "
      ],
      "text/plain": [
       "<IPython.core.display.HTML object>"
      ]
     },
     "metadata": {},
     "output_type": "display_data"
    }
   ],
   "source": [
    "# Convert GeoSeries to a list of ee.Geometry.Point\n",
    "ee_points = [ee.Geometry.Point([p.x, p.y]) for p in points]\n",
    "\n",
    "# Create an ee.FeatureCollection from the points\n",
    "ee_features = [ee.Feature(p) for p in ee_points]\n",
    "ee_feature_collection = ee.FeatureCollection(ee_features)"
   ]
  },
  {
   "cell_type": "code",
   "execution_count": 149,
   "id": "1a1668ee",
   "metadata": {},
   "outputs": [
    {
     "data": {
      "text/html": [
       "\n",
       "            <style>\n",
       "                .geemap-dark {\n",
       "                    --jp-widgets-color: white;\n",
       "                    --jp-widgets-label-color: white;\n",
       "                    --jp-ui-font-color1: white;\n",
       "                    --jp-layout-color2: #454545;\n",
       "                    background-color: #383838;\n",
       "                }\n",
       "\n",
       "                .geemap-dark .jupyter-button {\n",
       "                    --jp-layout-color3: #383838;\n",
       "                }\n",
       "\n",
       "                .geemap-colab {\n",
       "                    background-color: var(--colab-primary-surface-color, white);\n",
       "                }\n",
       "\n",
       "                .geemap-colab .jupyter-button {\n",
       "                    --jp-layout-color3: var(--colab-primary-surface-color, white);\n",
       "                }\n",
       "            </style>\n",
       "            "
      ],
      "text/plain": [
       "<IPython.core.display.HTML object>"
      ]
     },
     "metadata": {},
     "output_type": "display_data"
    },
    {
     "data": {
      "application/vnd.jupyter.widget-view+json": {
       "model_id": "cad55a7f11904f42ab3aef0bb7729847",
       "version_major": 2,
       "version_minor": 0
      },
      "text/plain": [
       "Map(center=[-36.931306466746, 174.701880487593], controls=(WidgetControl(options=['position', 'transparent_bg'…"
      ]
     },
     "execution_count": 149,
     "metadata": {},
     "output_type": "execute_result"
    }
   ],
   "source": [
    "m = geemap.Map()\n",
    "m.set_center(point.coordinates().get(0).getInfo(), point.coordinates().get(1).getInfo(), 15)\n",
    "m.add_layer(dataset.min(), visualization, 'RGB')\n",
    "# m.add_layer(point, {'color': 'red'}, 'My Pinpoint')\n",
    "# Add the FeatureCollection to the map\n",
    "m.addLayer(ee_feature_collection, {'color': 'red'}, 'Landslide Points')\n",
    "\n",
    "m"
   ]
  }
 ],
 "metadata": {
  "kernelspec": {
   "display_name": "geo",
   "language": "python",
   "name": "python3"
  },
  "language_info": {
   "codemirror_mode": {
    "name": "ipython",
    "version": 3
   },
   "file_extension": ".py",
   "mimetype": "text/x-python",
   "name": "python",
   "nbconvert_exporter": "python",
   "pygments_lexer": "ipython3",
   "version": "3.13.5"
  }
 },
 "nbformat": 4,
 "nbformat_minor": 5
}
