{
 "cells": [
  {
   "cell_type": "markdown",
   "id": "758bb97d",
   "metadata": {},
   "source": [
    "# Data Explore"
   ]
  },
  {
   "cell_type": "code",
   "execution_count": 1,
   "id": "60ab8caa",
   "metadata": {},
   "outputs": [],
   "source": [
    "import os\n",
    "import ee\n",
    "import geemap.core as geemap\n",
    "import pandas as pd\n",
    "import geopandas as gpd\n",
    "import urllib.request\n",
    "\n",
    "from IPython.display import Image"
   ]
  },
  {
   "cell_type": "code",
   "execution_count": 2,
   "id": "222a6136",
   "metadata": {},
   "outputs": [
    {
     "data": {
      "text/html": [
       "\n",
       "            <style>\n",
       "                .geemap-dark {\n",
       "                    --jp-widgets-color: white;\n",
       "                    --jp-widgets-label-color: white;\n",
       "                    --jp-ui-font-color1: white;\n",
       "                    --jp-layout-color2: #454545;\n",
       "                    background-color: #383838;\n",
       "                }\n",
       "\n",
       "                .geemap-dark .jupyter-button {\n",
       "                    --jp-layout-color3: #383838;\n",
       "                }\n",
       "\n",
       "                .geemap-colab {\n",
       "                    background-color: var(--colab-primary-surface-color, white);\n",
       "                }\n",
       "\n",
       "                .geemap-colab .jupyter-button {\n",
       "                    --jp-layout-color3: var(--colab-primary-surface-color, white);\n",
       "                }\n",
       "            </style>\n",
       "            "
      ],
      "text/plain": [
       "<IPython.core.display.HTML object>"
      ]
     },
     "metadata": {},
     "output_type": "display_data"
    }
   ],
   "source": [
    "from libs.ee import initialize_ee\n",
    "\n",
    "ee = initialize_ee(get_ipython())\n",
    "\n",
    "from libs.s2cloudless import S2Cloudless\n",
    "from libs.sentinel import mask_s2_clouds, get_sentinel_image_thumbnail"
   ]
  },
  {
   "cell_type": "markdown",
   "id": "fdb1b960",
   "metadata": {},
   "source": [
    "# Load data"
   ]
  },
  {
   "cell_type": "code",
   "execution_count": 3,
   "id": "e39213f0",
   "metadata": {},
   "outputs": [
    {
     "data": {
      "text/html": [
       "\n",
       "            <style>\n",
       "                .geemap-dark {\n",
       "                    --jp-widgets-color: white;\n",
       "                    --jp-widgets-label-color: white;\n",
       "                    --jp-ui-font-color1: white;\n",
       "                    --jp-layout-color2: #454545;\n",
       "                    background-color: #383838;\n",
       "                }\n",
       "\n",
       "                .geemap-dark .jupyter-button {\n",
       "                    --jp-layout-color3: #383838;\n",
       "                }\n",
       "\n",
       "                .geemap-colab {\n",
       "                    background-color: var(--colab-primary-surface-color, white);\n",
       "                }\n",
       "\n",
       "                .geemap-colab .jupyter-button {\n",
       "                    --jp-layout-color3: var(--colab-primary-surface-color, white);\n",
       "                }\n",
       "            </style>\n",
       "            "
      ],
      "text/plain": [
       "<IPython.core.display.HTML object>"
      ]
     },
     "metadata": {},
     "output_type": "display_data"
    },
    {
     "data": {
      "text/html": [
       "<div>\n",
       "<style scoped>\n",
       "    .dataframe tbody tr th:only-of-type {\n",
       "        vertical-align: middle;\n",
       "    }\n",
       "\n",
       "    .dataframe tbody tr th {\n",
       "        vertical-align: top;\n",
       "    }\n",
       "\n",
       "    .dataframe thead th {\n",
       "        text-align: right;\n",
       "    }\n",
       "</style>\n",
       "<table border=\"1\" class=\"dataframe\">\n",
       "  <thead>\n",
       "    <tr style=\"text-align: right;\">\n",
       "      <th></th>\n",
       "      <th>GlobalID</th>\n",
       "      <th>latitude</th>\n",
       "      <th>longitude</th>\n",
       "      <th>region</th>\n",
       "      <th>dateoccurence</th>\n",
       "      <th>closestdate</th>\n",
       "      <th>geometry</th>\n",
       "    </tr>\n",
       "  </thead>\n",
       "  <tbody>\n",
       "    <tr>\n",
       "      <th>0</th>\n",
       "      <td>cb20f8d7-abeb-4ce5-bafa-a75c01b03136</td>\n",
       "      <td>-36.931306</td>\n",
       "      <td>174.701880</td>\n",
       "      <td>Auckland Region</td>\n",
       "      <td>2023-02-13 23:00:00</td>\n",
       "      <td>2023-02-13 23:00:00</td>\n",
       "      <td>POINT (174.70188 -36.93131)</td>\n",
       "    </tr>\n",
       "    <tr>\n",
       "      <th>1</th>\n",
       "      <td>9da581bc-ff20-454f-b6fb-721279cd347a</td>\n",
       "      <td>-36.924269</td>\n",
       "      <td>174.705747</td>\n",
       "      <td>Auckland Region</td>\n",
       "      <td>2023-01-30 23:00:00</td>\n",
       "      <td>2023-01-30 23:00:00</td>\n",
       "      <td>POINT (174.70575 -36.92427)</td>\n",
       "    </tr>\n",
       "    <tr>\n",
       "      <th>2</th>\n",
       "      <td>2a361da4-7adf-4f4d-b94c-f3cf9ccccc46</td>\n",
       "      <td>-36.867368</td>\n",
       "      <td>174.738318</td>\n",
       "      <td>Auckland Region</td>\n",
       "      <td>2023-01-31 23:00:00</td>\n",
       "      <td>2023-01-31 23:00:00</td>\n",
       "      <td>POINT (174.73832 -36.86737)</td>\n",
       "    </tr>\n",
       "    <tr>\n",
       "      <th>3</th>\n",
       "      <td>4470b30b-6c80-46be-b0f7-e4ec0a5d72fd</td>\n",
       "      <td>-36.861593</td>\n",
       "      <td>174.655298</td>\n",
       "      <td>Auckland Region</td>\n",
       "      <td>2023-02-13 23:00:00</td>\n",
       "      <td>2023-02-13 23:00:00</td>\n",
       "      <td>POINT (174.6553 -36.86159)</td>\n",
       "    </tr>\n",
       "    <tr>\n",
       "      <th>4</th>\n",
       "      <td>cfcff56a-7cc6-41f5-9e7e-8da0daa5dbde</td>\n",
       "      <td>-36.817738</td>\n",
       "      <td>174.728127</td>\n",
       "      <td>Auckland Region</td>\n",
       "      <td>2023-01-31 23:00:00</td>\n",
       "      <td>2023-01-31 23:00:00</td>\n",
       "      <td>POINT (174.72813 -36.81774)</td>\n",
       "    </tr>\n",
       "  </tbody>\n",
       "</table>\n",
       "</div>"
      ],
      "text/plain": [
       "                               GlobalID   latitude   longitude  \\\n",
       "0  cb20f8d7-abeb-4ce5-bafa-a75c01b03136 -36.931306  174.701880   \n",
       "1  9da581bc-ff20-454f-b6fb-721279cd347a -36.924269  174.705747   \n",
       "2  2a361da4-7adf-4f4d-b94c-f3cf9ccccc46 -36.867368  174.738318   \n",
       "3  4470b30b-6c80-46be-b0f7-e4ec0a5d72fd -36.861593  174.655298   \n",
       "4  cfcff56a-7cc6-41f5-9e7e-8da0daa5dbde -36.817738  174.728127   \n",
       "\n",
       "            region       dateoccurence         closestdate  \\\n",
       "0  Auckland Region 2023-02-13 23:00:00 2023-02-13 23:00:00   \n",
       "1  Auckland Region 2023-01-30 23:00:00 2023-01-30 23:00:00   \n",
       "2  Auckland Region 2023-01-31 23:00:00 2023-01-31 23:00:00   \n",
       "3  Auckland Region 2023-02-13 23:00:00 2023-02-13 23:00:00   \n",
       "4  Auckland Region 2023-01-31 23:00:00 2023-01-31 23:00:00   \n",
       "\n",
       "                      geometry  \n",
       "0  POINT (174.70188 -36.93131)  \n",
       "1  POINT (174.70575 -36.92427)  \n",
       "2  POINT (174.73832 -36.86737)  \n",
       "3   POINT (174.6553 -36.86159)  \n",
       "4  POINT (174.72813 -36.81774)  "
      ]
     },
     "execution_count": 3,
     "metadata": {},
     "output_type": "execute_result"
    }
   ],
   "source": [
    "directory = 'data/NZ_landslide_inventory/'\n",
    "auckland_filepath = f'{directory}/cleaned_auckland.gpkg'\n",
    "gdf = gpd.read_file(auckland_filepath, layer='landslides')\n",
    "gdf = gdf[gdf['dateoccurence'].notnull()]\n",
    "gdf.head()"
   ]
  },
  {
   "cell_type": "code",
   "execution_count": 4,
   "id": "c53b808a",
   "metadata": {},
   "outputs": [
    {
     "data": {
      "text/html": [
       "\n",
       "            <style>\n",
       "                .geemap-dark {\n",
       "                    --jp-widgets-color: white;\n",
       "                    --jp-widgets-label-color: white;\n",
       "                    --jp-ui-font-color1: white;\n",
       "                    --jp-layout-color2: #454545;\n",
       "                    background-color: #383838;\n",
       "                }\n",
       "\n",
       "                .geemap-dark .jupyter-button {\n",
       "                    --jp-layout-color3: #383838;\n",
       "                }\n",
       "\n",
       "                .geemap-colab {\n",
       "                    background-color: var(--colab-primary-surface-color, white);\n",
       "                }\n",
       "\n",
       "                .geemap-colab .jupyter-button {\n",
       "                    --jp-layout-color3: var(--colab-primary-surface-color, white);\n",
       "                }\n",
       "            </style>\n",
       "            "
      ],
      "text/plain": [
       "<IPython.core.display.HTML object>"
      ]
     },
     "metadata": {},
     "output_type": "display_data"
    }
   ],
   "source": [
    "idx = 0\n",
    "event = gdf.iloc[idx]\n",
    "point = event.geometry.centroid\n",
    "points = gdf.geometry.centroid\n",
    "start_date = gdf['dateoccurence'].min().date().strftime(\"%Y-%m-%d\")\n",
    "end_date = ( gdf['dateoccurence'].min().date() + pd.Timedelta(days=91)).strftime(\"%Y-%m-%d\")\n",
    "point = ee.Geometry.Point(point.x, point.y)"
   ]
  },
  {
   "cell_type": "code",
   "execution_count": 5,
   "id": "7d2707dd",
   "metadata": {},
   "outputs": [
    {
     "data": {
      "text/html": [
       "\n",
       "            <style>\n",
       "                .geemap-dark {\n",
       "                    --jp-widgets-color: white;\n",
       "                    --jp-widgets-label-color: white;\n",
       "                    --jp-ui-font-color1: white;\n",
       "                    --jp-layout-color2: #454545;\n",
       "                    background-color: #383838;\n",
       "                }\n",
       "\n",
       "                .geemap-dark .jupyter-button {\n",
       "                    --jp-layout-color3: #383838;\n",
       "                }\n",
       "\n",
       "                .geemap-colab {\n",
       "                    background-color: var(--colab-primary-surface-color, white);\n",
       "                }\n",
       "\n",
       "                .geemap-colab .jupyter-button {\n",
       "                    --jp-layout-color3: var(--colab-primary-surface-color, white);\n",
       "                }\n",
       "            </style>\n",
       "            "
      ],
      "text/plain": [
       "<IPython.core.display.HTML object>"
      ]
     },
     "metadata": {},
     "output_type": "display_data"
    },
    {
     "data": {
      "text/plain": [
       "('2022-02-01', '2022-05-03')"
      ]
     },
     "execution_count": 5,
     "metadata": {},
     "output_type": "execute_result"
    }
   ],
   "source": [
    "start_date, end_date"
   ]
  },
  {
   "cell_type": "markdown",
   "id": "c92e9a9f",
   "metadata": {},
   "source": [
    "## Quick preview on map"
   ]
  },
  {
   "cell_type": "code",
   "execution_count": 6,
   "id": "cc6d7319",
   "metadata": {},
   "outputs": [
    {
     "data": {
      "text/html": [
       "\n",
       "            <style>\n",
       "                .geemap-dark {\n",
       "                    --jp-widgets-color: white;\n",
       "                    --jp-widgets-label-color: white;\n",
       "                    --jp-ui-font-color1: white;\n",
       "                    --jp-layout-color2: #454545;\n",
       "                    background-color: #383838;\n",
       "                }\n",
       "\n",
       "                .geemap-dark .jupyter-button {\n",
       "                    --jp-layout-color3: #383838;\n",
       "                }\n",
       "\n",
       "                .geemap-colab {\n",
       "                    background-color: var(--colab-primary-surface-color, white);\n",
       "                }\n",
       "\n",
       "                .geemap-colab .jupyter-button {\n",
       "                    --jp-layout-color3: var(--colab-primary-surface-color, white);\n",
       "                }\n",
       "            </style>\n",
       "            "
      ],
      "text/plain": [
       "<IPython.core.display.HTML object>"
      ]
     },
     "metadata": {},
     "output_type": "display_data"
    }
   ],
   "source": [
    "dataset = (\n",
    "    ee.ImageCollection('COPERNICUS/S2_SR_HARMONIZED')\n",
    "    .filterDate(start_date, end_date)\n",
    "    # Pre-filter to get less cloudy granules.\n",
    "    .filter(ee.Filter.lt('CLOUDY_PIXEL_PERCENTAGE', 50))\n",
    "    .map(mask_s2_clouds)\n",
    ")\n",
    "\n",
    "visualization = {\n",
    "    'min': 0.0,\n",
    "    'max': 0.3,\n",
    "    'bands': ['B4', 'B3', 'B2'],\n",
    "}"
   ]
  },
  {
   "cell_type": "code",
   "execution_count": 7,
   "id": "0cbc0a0d",
   "metadata": {},
   "outputs": [
    {
     "data": {
      "text/html": [
       "\n",
       "            <style>\n",
       "                .geemap-dark {\n",
       "                    --jp-widgets-color: white;\n",
       "                    --jp-widgets-label-color: white;\n",
       "                    --jp-ui-font-color1: white;\n",
       "                    --jp-layout-color2: #454545;\n",
       "                    background-color: #383838;\n",
       "                }\n",
       "\n",
       "                .geemap-dark .jupyter-button {\n",
       "                    --jp-layout-color3: #383838;\n",
       "                }\n",
       "\n",
       "                .geemap-colab {\n",
       "                    background-color: var(--colab-primary-surface-color, white);\n",
       "                }\n",
       "\n",
       "                .geemap-colab .jupyter-button {\n",
       "                    --jp-layout-color3: var(--colab-primary-surface-color, white);\n",
       "                }\n",
       "            </style>\n",
       "            "
      ],
      "text/plain": [
       "<IPython.core.display.HTML object>"
      ]
     },
     "metadata": {},
     "output_type": "display_data"
    }
   ],
   "source": [
    "# Convert GeoSeries to a list of ee.Geometry.Point\n",
    "ee_points = [ee.Geometry.Point([p.x, p.y]) for p in points]\n",
    "\n",
    "# Create an ee.FeatureCollection from the points\n",
    "ee_features = [ee.Feature(p) for p in ee_points]\n",
    "ee_feature_collection = ee.FeatureCollection(ee_features)"
   ]
  },
  {
   "cell_type": "code",
   "execution_count": 8,
   "id": "1a1668ee",
   "metadata": {},
   "outputs": [
    {
     "data": {
      "text/html": [
       "\n",
       "            <style>\n",
       "                .geemap-dark {\n",
       "                    --jp-widgets-color: white;\n",
       "                    --jp-widgets-label-color: white;\n",
       "                    --jp-ui-font-color1: white;\n",
       "                    --jp-layout-color2: #454545;\n",
       "                    background-color: #383838;\n",
       "                }\n",
       "\n",
       "                .geemap-dark .jupyter-button {\n",
       "                    --jp-layout-color3: #383838;\n",
       "                }\n",
       "\n",
       "                .geemap-colab {\n",
       "                    background-color: var(--colab-primary-surface-color, white);\n",
       "                }\n",
       "\n",
       "                .geemap-colab .jupyter-button {\n",
       "                    --jp-layout-color3: var(--colab-primary-surface-color, white);\n",
       "                }\n",
       "            </style>\n",
       "            "
      ],
      "text/plain": [
       "<IPython.core.display.HTML object>"
      ]
     },
     "metadata": {},
     "output_type": "display_data"
    }
   ],
   "source": [
    "# m = geemap.Map()\n",
    "# m.set_center(point.coordinates().get(0).getInfo(), point.coordinates().get(1).getInfo(), 15)\n",
    "# m.add_layer(dataset.min(), visualization, 'RGB')\n",
    "# m.add_layer(point, {'color': 'red'}, 'My Pinpoint')\n",
    "# # Add the FeatureCollection to the map\n",
    "# m.addLayer(ee_feature_collection, {'color': 'red'}, 'Landslide Points')\n",
    "\n",
    "# m"
   ]
  },
  {
   "cell_type": "markdown",
   "id": "5891c77d",
   "metadata": {},
   "source": [
    "## Cloud removal"
   ]
  },
  {
   "cell_type": "code",
   "execution_count": 9,
   "id": "d58d0683",
   "metadata": {},
   "outputs": [
    {
     "data": {
      "text/html": [
       "\n",
       "            <style>\n",
       "                .geemap-dark {\n",
       "                    --jp-widgets-color: white;\n",
       "                    --jp-widgets-label-color: white;\n",
       "                    --jp-ui-font-color1: white;\n",
       "                    --jp-layout-color2: #454545;\n",
       "                    background-color: #383838;\n",
       "                }\n",
       "\n",
       "                .geemap-dark .jupyter-button {\n",
       "                    --jp-layout-color3: #383838;\n",
       "                }\n",
       "\n",
       "                .geemap-colab {\n",
       "                    background-color: var(--colab-primary-surface-color, white);\n",
       "                }\n",
       "\n",
       "                .geemap-colab .jupyter-button {\n",
       "                    --jp-layout-color3: var(--colab-primary-surface-color, white);\n",
       "                }\n",
       "            </style>\n",
       "            "
      ],
      "text/plain": [
       "<IPython.core.display.HTML object>"
      ]
     },
     "metadata": {},
     "output_type": "display_data"
    }
   ],
   "source": [
    "s2cloudless = S2Cloudless(ee)\n",
    "# point = points[0]\n",
    "aoi = ee.Geometry.Point(point.coordinates().get(0).getInfo(), point.coordinates().get(1).getInfo()).buffer(1000)\n",
    "# start_date\n",
    "# end_date,\n",
    "buffer=50\n",
    "cloud_filter=60"
   ]
  },
  {
   "cell_type": "code",
   "execution_count": 10,
   "id": "f08e6559",
   "metadata": {},
   "outputs": [
    {
     "data": {
      "text/html": [
       "\n",
       "            <style>\n",
       "                .geemap-dark {\n",
       "                    --jp-widgets-color: white;\n",
       "                    --jp-widgets-label-color: white;\n",
       "                    --jp-ui-font-color1: white;\n",
       "                    --jp-layout-color2: #454545;\n",
       "                    background-color: #383838;\n",
       "                }\n",
       "\n",
       "                .geemap-dark .jupyter-button {\n",
       "                    --jp-layout-color3: #383838;\n",
       "                }\n",
       "\n",
       "                .geemap-colab {\n",
       "                    background-color: var(--colab-primary-surface-color, white);\n",
       "                }\n",
       "\n",
       "                .geemap-colab .jupyter-button {\n",
       "                    --jp-layout-color3: var(--colab-primary-surface-color, white);\n",
       "                }\n",
       "            </style>\n",
       "            "
      ],
      "text/plain": [
       "<IPython.core.display.HTML object>"
      ]
     },
     "metadata": {},
     "output_type": "display_data"
    }
   ],
   "source": [
    "# s2_sr_cld_col_eval = s2cloudless._get_s2_sr_cld_col(aoi, start_date, end_date, cloud_filter)\n",
    "# # As ever, a good idea to do a quick viusalization check\n",
    "# Map = geemap.Map()\n",
    "# Map.centerObject(aoi, 12)\n",
    "# Map.addLayer(s2_sr_cld_col_eval, {'bands':['B4','B3','B2'], 'min':0, 'max':3000}, 'S2 collection (before)')\n",
    "# Map.addLayer(point, {'color': 'red'}, 'My Pinpoint')\n",
    "# Map"
   ]
  },
  {
   "cell_type": "code",
   "execution_count": 11,
   "id": "a6476658",
   "metadata": {},
   "outputs": [
    {
     "data": {
      "text/html": [
       "\n",
       "            <style>\n",
       "                .geemap-dark {\n",
       "                    --jp-widgets-color: white;\n",
       "                    --jp-widgets-label-color: white;\n",
       "                    --jp-ui-font-color1: white;\n",
       "                    --jp-layout-color2: #454545;\n",
       "                    background-color: #383838;\n",
       "                }\n",
       "\n",
       "                .geemap-dark .jupyter-button {\n",
       "                    --jp-layout-color3: #383838;\n",
       "                }\n",
       "\n",
       "                .geemap-colab {\n",
       "                    background-color: var(--colab-primary-surface-color, white);\n",
       "                }\n",
       "\n",
       "                .geemap-colab .jupyter-button {\n",
       "                    --jp-layout-color3: var(--colab-primary-surface-color, white);\n",
       "                }\n",
       "            </style>\n",
       "            "
      ],
      "text/plain": [
       "<IPython.core.display.HTML object>"
      ]
     },
     "metadata": {},
     "output_type": "display_data"
    }
   ],
   "source": [
    "# m_cloud = s2cloudless.cloud_layers_map(aoi, start_date, end_date, buffer=buffer, cloud_filter=cloud_filter)\n",
    "# m_cloud.addLayer(point, {'color': 'red'}, 'My Pinpoint')\n",
    "# m_cloud"
   ]
  },
  {
   "cell_type": "code",
   "execution_count": 12,
   "id": "a112e902",
   "metadata": {},
   "outputs": [
    {
     "data": {
      "text/html": [
       "\n",
       "            <style>\n",
       "                .geemap-dark {\n",
       "                    --jp-widgets-color: white;\n",
       "                    --jp-widgets-label-color: white;\n",
       "                    --jp-ui-font-color1: white;\n",
       "                    --jp-layout-color2: #454545;\n",
       "                    background-color: #383838;\n",
       "                }\n",
       "\n",
       "                .geemap-dark .jupyter-button {\n",
       "                    --jp-layout-color3: #383838;\n",
       "                }\n",
       "\n",
       "                .geemap-colab {\n",
       "                    background-color: var(--colab-primary-surface-color, white);\n",
       "                }\n",
       "\n",
       "                .geemap-colab .jupyter-button {\n",
       "                    --jp-layout-color3: var(--colab-primary-surface-color, white);\n",
       "                }\n",
       "            </style>\n",
       "            "
      ],
      "text/plain": [
       "<IPython.core.display.HTML object>"
      ]
     },
     "metadata": {},
     "output_type": "display_data"
    },
    {
     "data": {
      "application/vnd.jupyter.widget-view+json": {
       "model_id": "7203541fbc53448daa0c616a7c99013c",
       "version_major": 2,
       "version_minor": 0
      },
      "text/plain": [
       "Map(center=[-36.93130544085776, 174.7018805231759], controls=(WidgetControl(options=['position', 'transparent_…"
      ]
     },
     "execution_count": 12,
     "metadata": {},
     "output_type": "execute_result"
    }
   ],
   "source": [
    "m_cloud_free = s2cloudless.cloud_free_map(aoi, start_date, end_date, buffer=buffer, cloud_filter=cloud_filter)\n",
    "m_cloud_free.addLayer(point, {'color': 'red'}, 'My Pinpoint')\n",
    "m_cloud_free"
   ]
  },
  {
   "cell_type": "code",
   "execution_count": 16,
   "id": "032371cd",
   "metadata": {},
   "outputs": [
    {
     "data": {
      "text/html": [
       "\n",
       "            <style>\n",
       "                .geemap-dark {\n",
       "                    --jp-widgets-color: white;\n",
       "                    --jp-widgets-label-color: white;\n",
       "                    --jp-ui-font-color1: white;\n",
       "                    --jp-layout-color2: #454545;\n",
       "                    background-color: #383838;\n",
       "                }\n",
       "\n",
       "                .geemap-dark .jupyter-button {\n",
       "                    --jp-layout-color3: #383838;\n",
       "                }\n",
       "\n",
       "                .geemap-colab {\n",
       "                    background-color: var(--colab-primary-surface-color, white);\n",
       "                }\n",
       "\n",
       "                .geemap-colab .jupyter-button {\n",
       "                    --jp-layout-color3: var(--colab-primary-surface-color, white);\n",
       "                }\n",
       "            </style>\n",
       "            "
      ],
      "text/plain": [
       "<IPython.core.display.HTML object>"
      ]
     },
     "metadata": {},
     "output_type": "display_data"
    },
    {
     "data": {
      "text/plain": [
       "'Filename ./data/2-data-explore-events/rgb/0_174.701880487593_-36.931306466746_2023-02-14_2023-04-15.png'"
      ]
     },
     "metadata": {},
     "output_type": "display_data"
    },
    {
     "data": {
      "image/png": "[encoded data removed]",
      "text/plain": [
       "<IPython.core.display.Image object>"
      ]
     },
     "metadata": {},
     "output_type": "display_data"
    },
    {
     "data": {
      "text/plain": [
       "'Filename ./data/2-data-explore-events/rgb/1_174.70574721288_-36.9242685339089_2023-01-31_2023-04-01.png'"
      ]
     },
     "metadata": {},
     "output_type": "display_data"
    },
    {
     "data": {
      "image/png": "[encoded data removed]",
      "text/plain": [
       "<IPython.core.display.Image object>"
      ]
     },
     "metadata": {},
     "output_type": "display_data"
    },
    {
     "data": {
      "text/plain": [
       "'Filename ./data/2-data-explore-events/rgb/2_174.738317563251_-36.8673683761872_2023-02-01_2023-04-02.png'"
      ]
     },
     "metadata": {},
     "output_type": "display_data"
    },
    {
     "data": {
      "image/png": "[encoded data removed]",
      "text/plain": [
       "<IPython.core.display.Image object>"
      ]
     },
     "metadata": {},
     "output_type": "display_data"
    },
    {
     "data": {
      "text/plain": [
       "'Filename ./data/2-data-explore-events/rgb/3_174.655298082793_-36.8615929062174_2023-02-14_2023-04-15.png'"
      ]
     },
     "metadata": {},
     "output_type": "display_data"
    },
    {
     "data": {
      "image/png": "[encoded data removed]",
      "text/plain": [
       "<IPython.core.display.Image object>"
      ]
     },
     "metadata": {},
     "output_type": "display_data"
    },
    {
     "data": {
      "text/plain": [
       "'Filename ./data/2-data-explore-events/rgb/4_174.728126662222_-36.8177384118568_2023-02-01_2023-04-02.png'"
      ]
     },
     "metadata": {},
     "output_type": "display_data"
    },
    {
     "data": {
      "image/png": "[encoded data removed]",
      "text/plain": [
       "<IPython.core.display.Image object>"
      ]
     },
     "metadata": {},
     "output_type": "display_data"
    },
    {
     "data": {
      "text/plain": [
       "'Filename ./data/2-data-explore-events/rgb/5_174.767440064505_-36.9257813698387_2023-02-01_2023-04-02.png'"
      ]
     },
     "metadata": {},
     "output_type": "display_data"
    },
    {
     "data": {
      "image/png": "[encoded data removed]",
      "text/plain": [
       "<IPython.core.display.Image object>"
      ]
     },
     "metadata": {},
     "output_type": "display_data"
    },
    {
     "data": {
      "text/plain": [
       "'Filename ./data/2-data-explore-events/rgb/6_174.702992745634_-36.927593097499_2023-02-14_2023-04-15.png'"
      ]
     },
     "metadata": {},
     "output_type": "display_data"
    },
    {
     "data": {
      "image/png": "[encoded data removed]",
      "text/plain": [
       "<IPython.core.display.Image object>"
      ]
     },
     "metadata": {},
     "output_type": "display_data"
    },
    {
     "data": {
      "text/plain": [
       "'Filename ./data/2-data-explore-events/rgb/7_174.653319614685_-37.0943919015828_2023-02-01_2023-04-02.png'"
      ]
     },
     "metadata": {},
     "output_type": "display_data"
    },
    {
     "data": {
      "image/png": "[encoded data removed]",
      "text/plain": [
       "<IPython.core.display.Image object>"
      ]
     },
     "metadata": {},
     "output_type": "display_data"
    },
    {
     "data": {
      "text/plain": [
       "'Filename ./data/2-data-explore-events/rgb/8_174.746297568181_-36.8198594698531_2023-01-27_2023-03-28.png'"
      ]
     },
     "metadata": {},
     "output_type": "display_data"
    },
    {
     "data": {
      "image/png": "[encoded data removed]",
      "text/plain": [
       "<IPython.core.display.Image object>"
      ]
     },
     "metadata": {},
     "output_type": "display_data"
    },
    {
     "data": {
      "text/plain": [
       "'Filename ./data/2-data-explore-events/rgb/9_174.716829737716_-36.9256941844427_2023-01-28_2023-03-29.png'"
      ]
     },
     "metadata": {},
     "output_type": "display_data"
    },
    {
     "data": {
      "image/png": "[encoded data removed]",
      "text/plain": [
       "<IPython.core.display.Image object>"
      ]
     },
     "metadata": {},
     "output_type": "display_data"
    }
   ],
   "source": [
    "out_dir = './data/2-data-explore-events/'\n",
    "start_date_offset = 1\n",
    "end_date_offset = 61 # s2 revisit time is 5 days, make sure we have images before the event\n",
    "\n",
    "for idx, event in gdf[:10].iterrows():\n",
    "    filepath_rgb, filepath_with_marker = get_sentinel_image_thumbnail(\n",
    "        ee,\n",
    "        s2cloudless,\n",
    "        event,\n",
    "        idx,\n",
    "        out_dir,\n",
    "        start_date_offset=start_date_offset,\n",
    "        end_date_offset=end_date_offset,\n",
    "        buffer=buffer,\n",
    "        cloud_filter=cloud_filter,\n",
    "    )\n",
    "\n",
    "    display(f\"Filename {filepath_rgb}\")\n",
    "    display(Image(filename=filepath_with_marker))"
   ]
  }
 ],
 "metadata": {
  "kernelspec": {
   "display_name": "geo",
   "language": "python",
   "name": "python3"
  },
  "language_info": {
   "codemirror_mode": {
    "name": "ipython",
    "version": 3
   },
   "file_extension": ".py",
   "mimetype": "text/x-python",
   "name": "python",
   "nbconvert_exporter": "python",
   "pygments_lexer": "ipython3",
   "version": "3.12.12"
  }
 },
 "nbformat": 4,
 "nbformat_minor": 5
}
