{
 "cells": [
  {
   "cell_type": "markdown",
   "id": "7aede956",
   "metadata": {},
   "source": [
    "# Change Detection in Google Earth Engine - The MAD Transformation\n",
    "\n",
    "Based on [Google Earth Engine (tutorial)](https://developers.google.com/earth-engine/tutorials/community/imad-tutorial-pt1)"
   ]
  }
 ],
 "metadata": {
  "language_info": {
   "name": "python"
  }
 },
 "nbformat": 4,
 "nbformat_minor": 5
}
