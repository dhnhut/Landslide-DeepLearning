{
 "cells": [
  {
   "cell_type": "markdown",
   "id": "72cca110",
   "metadata": {},
   "source": [
    "# Change Detection"
   ]
  },
  {
   "cell_type": "code",
   "execution_count": 1,
   "id": "bddc2dc2",
   "metadata": {},
   "outputs": [],
   "source": [
    "import geoai\n",
    "import os\n",
    "import numpy as np\n",
    "import pandas as pd\n",
    "import matplotlib.pyplot as plt\n",
    "import urllib.request\n",
    "from pathlib import Path\n",
    "from geoai.change_detection import ChangeDetection\n",
    "import geopandas as gpd\n",
    "from IPython.display import Image\n",
    "\n",
    "from libs.sentinel import get_sentinel_image_thumbnail\n",
    "from libs.ee import initialize_ee\n",
    "ee = initialize_ee(get_ipython())\n",
    "\n",
    "from libs.s2cloudless import S2Cloudless"
   ]
  },
  {
   "cell_type": "code",
   "execution_count": 2,
   "id": "40f9d725",
   "metadata": {},
   "outputs": [
    {
     "data": {
      "text/html": [
       "\n",
       "            <style>\n",
       "                .geemap-dark {\n",
       "                    --jp-widgets-color: white;\n",
       "                    --jp-widgets-label-color: white;\n",
       "                    --jp-ui-font-color1: white;\n",
       "                    --jp-layout-color2: #454545;\n",
       "                    background-color: #383838;\n",
       "                }\n",
       "\n",
       "                .geemap-dark .jupyter-button {\n",
       "                    --jp-layout-color3: #383838;\n",
       "                }\n",
       "\n",
       "                .geemap-colab {\n",
       "                    background-color: var(--colab-primary-surface-color, white);\n",
       "                }\n",
       "\n",
       "                .geemap-colab .jupyter-button {\n",
       "                    --jp-layout-color3: var(--colab-primary-surface-color, white);\n",
       "                }\n",
       "            </style>\n",
       "            "
      ],
      "text/plain": [
       "<IPython.core.display.HTML object>"
      ]
     },
     "metadata": {},
     "output_type": "display_data"
    },
    {
     "data": {
      "text/html": [
       "<div>\n",
       "<style scoped>\n",
       "    .dataframe tbody tr th:only-of-type {\n",
       "        vertical-align: middle;\n",
       "    }\n",
       "\n",
       "    .dataframe tbody tr th {\n",
       "        vertical-align: top;\n",
       "    }\n",
       "\n",
       "    .dataframe thead th {\n",
       "        text-align: right;\n",
       "    }\n",
       "</style>\n",
       "<table border=\"1\" class=\"dataframe\">\n",
       "  <thead>\n",
       "    <tr style=\"text-align: right;\">\n",
       "      <th></th>\n",
       "      <th>GlobalID</th>\n",
       "      <th>latitude</th>\n",
       "      <th>longitude</th>\n",
       "      <th>region</th>\n",
       "      <th>dateoccurence</th>\n",
       "      <th>closestdate</th>\n",
       "      <th>geometry</th>\n",
       "    </tr>\n",
       "  </thead>\n",
       "  <tbody>\n",
       "    <tr>\n",
       "      <th>0</th>\n",
       "      <td>cb20f8d7-abeb-4ce5-bafa-a75c01b03136</td>\n",
       "      <td>-36.931306</td>\n",
       "      <td>174.701880</td>\n",
       "      <td>Auckland Region</td>\n",
       "      <td>2023-02-13 23:00:00</td>\n",
       "      <td>2023-02-13 23:00:00</td>\n",
       "      <td>POINT (174.70188 -36.93131)</td>\n",
       "    </tr>\n",
       "    <tr>\n",
       "      <th>1</th>\n",
       "      <td>9da581bc-ff20-454f-b6fb-721279cd347a</td>\n",
       "      <td>-36.924269</td>\n",
       "      <td>174.705747</td>\n",
       "      <td>Auckland Region</td>\n",
       "      <td>2023-01-30 23:00:00</td>\n",
       "      <td>2023-01-30 23:00:00</td>\n",
       "      <td>POINT (174.70575 -36.92427)</td>\n",
       "    </tr>\n",
       "    <tr>\n",
       "      <th>2</th>\n",
       "      <td>2a361da4-7adf-4f4d-b94c-f3cf9ccccc46</td>\n",
       "      <td>-36.867368</td>\n",
       "      <td>174.738318</td>\n",
       "      <td>Auckland Region</td>\n",
       "      <td>2023-01-31 23:00:00</td>\n",
       "      <td>2023-01-31 23:00:00</td>\n",
       "      <td>POINT (174.73832 -36.86737)</td>\n",
       "    </tr>\n",
       "    <tr>\n",
       "      <th>3</th>\n",
       "      <td>4470b30b-6c80-46be-b0f7-e4ec0a5d72fd</td>\n",
       "      <td>-36.861593</td>\n",
       "      <td>174.655298</td>\n",
       "      <td>Auckland Region</td>\n",
       "      <td>2023-02-13 23:00:00</td>\n",
       "      <td>2023-02-13 23:00:00</td>\n",
       "      <td>POINT (174.6553 -36.86159)</td>\n",
       "    </tr>\n",
       "    <tr>\n",
       "      <th>4</th>\n",
       "      <td>cfcff56a-7cc6-41f5-9e7e-8da0daa5dbde</td>\n",
       "      <td>-36.817738</td>\n",
       "      <td>174.728127</td>\n",
       "      <td>Auckland Region</td>\n",
       "      <td>2023-01-31 23:00:00</td>\n",
       "      <td>2023-01-31 23:00:00</td>\n",
       "      <td>POINT (174.72813 -36.81774)</td>\n",
       "    </tr>\n",
       "    <tr>\n",
       "      <th>...</th>\n",
       "      <td>...</td>\n",
       "      <td>...</td>\n",
       "      <td>...</td>\n",
       "      <td>...</td>\n",
       "      <td>...</td>\n",
       "      <td>...</td>\n",
       "      <td>...</td>\n",
       "    </tr>\n",
       "    <tr>\n",
       "      <th>11911</th>\n",
       "      <td>8ac9ffa6-d365-4cb0-bc15-e54c10a63d8b</td>\n",
       "      <td>-36.807419</td>\n",
       "      <td>174.690856</td>\n",
       "      <td>Auckland Region</td>\n",
       "      <td>2023-01-26 11:00:00</td>\n",
       "      <td>2023-01-26 11:00:00</td>\n",
       "      <td>POINT (174.69086 -36.80742)</td>\n",
       "    </tr>\n",
       "    <tr>\n",
       "      <th>11912</th>\n",
       "      <td>2801a385-dc6a-44b3-9355-64140b2f1929</td>\n",
       "      <td>-37.133864</td>\n",
       "      <td>174.706530</td>\n",
       "      <td>Auckland Region</td>\n",
       "      <td>2023-01-26 11:00:00</td>\n",
       "      <td>2023-01-26 11:00:00</td>\n",
       "      <td>POINT (174.70653 -37.13386)</td>\n",
       "    </tr>\n",
       "    <tr>\n",
       "      <th>11913</th>\n",
       "      <td>c8cc9f20-efac-41b4-bf62-55a625a2ab6e</td>\n",
       "      <td>-36.938192</td>\n",
       "      <td>174.629223</td>\n",
       "      <td>Auckland Region</td>\n",
       "      <td>2023-01-26 11:00:00</td>\n",
       "      <td>2023-01-26 11:00:00</td>\n",
       "      <td>POINT (174.62922 -36.93819)</td>\n",
       "    </tr>\n",
       "    <tr>\n",
       "      <th>11914</th>\n",
       "      <td>fa946895-4967-4a14-9b59-48dd0898766e</td>\n",
       "      <td>-36.944683</td>\n",
       "      <td>174.663084</td>\n",
       "      <td>Auckland Region</td>\n",
       "      <td>2023-01-27 11:00:00</td>\n",
       "      <td>2023-01-27 08:00:00</td>\n",
       "      <td>POINT (174.66308 -36.94468)</td>\n",
       "    </tr>\n",
       "    <tr>\n",
       "      <th>11915</th>\n",
       "      <td>2a7dcb96-42c9-49a8-b529-3302afee7b62</td>\n",
       "      <td>-36.865872</td>\n",
       "      <td>174.797044</td>\n",
       "      <td>Auckland Region</td>\n",
       "      <td>2023-01-26 11:00:00</td>\n",
       "      <td>2023-01-26 11:00:00</td>\n",
       "      <td>POINT (174.79704 -36.86587)</td>\n",
       "    </tr>\n",
       "  </tbody>\n",
       "</table>\n",
       "<p>159 rows × 7 columns</p>\n",
       "</div>"
      ],
      "text/plain": [
       "                                   GlobalID   latitude   longitude  \\\n",
       "0      cb20f8d7-abeb-4ce5-bafa-a75c01b03136 -36.931306  174.701880   \n",
       "1      9da581bc-ff20-454f-b6fb-721279cd347a -36.924269  174.705747   \n",
       "2      2a361da4-7adf-4f4d-b94c-f3cf9ccccc46 -36.867368  174.738318   \n",
       "3      4470b30b-6c80-46be-b0f7-e4ec0a5d72fd -36.861593  174.655298   \n",
       "4      cfcff56a-7cc6-41f5-9e7e-8da0daa5dbde -36.817738  174.728127   \n",
       "...                                     ...        ...         ...   \n",
       "11911  8ac9ffa6-d365-4cb0-bc15-e54c10a63d8b -36.807419  174.690856   \n",
       "11912  2801a385-dc6a-44b3-9355-64140b2f1929 -37.133864  174.706530   \n",
       "11913  c8cc9f20-efac-41b4-bf62-55a625a2ab6e -36.938192  174.629223   \n",
       "11914  fa946895-4967-4a14-9b59-48dd0898766e -36.944683  174.663084   \n",
       "11915  2a7dcb96-42c9-49a8-b529-3302afee7b62 -36.865872  174.797044   \n",
       "\n",
       "                region       dateoccurence         closestdate  \\\n",
       "0      Auckland Region 2023-02-13 23:00:00 2023-02-13 23:00:00   \n",
       "1      Auckland Region 2023-01-30 23:00:00 2023-01-30 23:00:00   \n",
       "2      Auckland Region 2023-01-31 23:00:00 2023-01-31 23:00:00   \n",
       "3      Auckland Region 2023-02-13 23:00:00 2023-02-13 23:00:00   \n",
       "4      Auckland Region 2023-01-31 23:00:00 2023-01-31 23:00:00   \n",
       "...                ...                 ...                 ...   \n",
       "11911  Auckland Region 2023-01-26 11:00:00 2023-01-26 11:00:00   \n",
       "11912  Auckland Region 2023-01-26 11:00:00 2023-01-26 11:00:00   \n",
       "11913  Auckland Region 2023-01-26 11:00:00 2023-01-26 11:00:00   \n",
       "11914  Auckland Region 2023-01-27 11:00:00 2023-01-27 08:00:00   \n",
       "11915  Auckland Region 2023-01-26 11:00:00 2023-01-26 11:00:00   \n",
       "\n",
       "                          geometry  \n",
       "0      POINT (174.70188 -36.93131)  \n",
       "1      POINT (174.70575 -36.92427)  \n",
       "2      POINT (174.73832 -36.86737)  \n",
       "3       POINT (174.6553 -36.86159)  \n",
       "4      POINT (174.72813 -36.81774)  \n",
       "...                            ...  \n",
       "11911  POINT (174.69086 -36.80742)  \n",
       "11912  POINT (174.70653 -37.13386)  \n",
       "11913  POINT (174.62922 -36.93819)  \n",
       "11914  POINT (174.66308 -36.94468)  \n",
       "11915  POINT (174.79704 -36.86587)  \n",
       "\n",
       "[159 rows x 7 columns]"
      ]
     },
     "execution_count": 2,
     "metadata": {},
     "output_type": "execute_result"
    }
   ],
   "source": [
    "directory = 'data/NZ_landslide_inventory/'\n",
    "auckland_filepath = f'{directory}/cleaned_auckland.gpkg'\n",
    "gdf = gpd.read_file(auckland_filepath, layer='landslides')\n",
    "gdf = gdf[gdf['dateoccurence'].notnull()]\n",
    "gdf"
   ]
  },
  {
   "cell_type": "code",
   "execution_count": 3,
   "id": "f74171f0",
   "metadata": {},
   "outputs": [
    {
     "data": {
      "text/html": [
       "\n",
       "            <style>\n",
       "                .geemap-dark {\n",
       "                    --jp-widgets-color: white;\n",
       "                    --jp-widgets-label-color: white;\n",
       "                    --jp-ui-font-color1: white;\n",
       "                    --jp-layout-color2: #454545;\n",
       "                    background-color: #383838;\n",
       "                }\n",
       "\n",
       "                .geemap-dark .jupyter-button {\n",
       "                    --jp-layout-color3: #383838;\n",
       "                }\n",
       "\n",
       "                .geemap-colab {\n",
       "                    background-color: var(--colab-primary-surface-color, white);\n",
       "                }\n",
       "\n",
       "                .geemap-colab .jupyter-button {\n",
       "                    --jp-layout-color3: var(--colab-primary-surface-color, white);\n",
       "                }\n",
       "            </style>\n",
       "            "
      ],
      "text/plain": [
       "<IPython.core.display.HTML object>"
      ]
     },
     "metadata": {},
     "output_type": "display_data"
    },
    {
     "data": {
      "text/plain": [
       "GlobalID              cb20f8d7-abeb-4ce5-bafa-a75c01b03136\n",
       "latitude                                        -36.931306\n",
       "longitude                                        174.70188\n",
       "region                                     Auckland Region\n",
       "dateoccurence                          2023-02-13 23:00:00\n",
       "closestdate                            2023-02-13 23:00:00\n",
       "geometry         POINT (174.701880487593 -36.931306466746)\n",
       "Name: 0, dtype: object"
      ]
     },
     "metadata": {},
     "output_type": "display_data"
    },
    {
     "data": {
      "image/png": "[encoded data removed]",
      "text/plain": [
       "<IPython.core.display.Image object>"
      ]
     },
     "metadata": {},
     "output_type": "display_data"
    }
   ],
   "source": [
    "auckland_dir = './data/2-data-explore-events'\n",
    "\n",
    "event = gdf.loc[0]\n",
    "\n",
    "landslide_img = f'{auckland_dir}/marks/0_174.701880487593_-36.931306466746_2023-02-14_2023-04-15.png'\n",
    "\n",
    "display(event)\n",
    "display(Image(filename=landslide_img))"
   ]
  },
  {
   "cell_type": "markdown",
   "id": "b4ddbed3",
   "metadata": {},
   "source": [
    "## Find before landslide images"
   ]
  },
  {
   "cell_type": "code",
   "execution_count": 4,
   "id": "5b1017a8",
   "metadata": {},
   "outputs": [
    {
     "data": {
      "text/html": [
       "\n",
       "            <style>\n",
       "                .geemap-dark {\n",
       "                    --jp-widgets-color: white;\n",
       "                    --jp-widgets-label-color: white;\n",
       "                    --jp-ui-font-color1: white;\n",
       "                    --jp-layout-color2: #454545;\n",
       "                    background-color: #383838;\n",
       "                }\n",
       "\n",
       "                .geemap-dark .jupyter-button {\n",
       "                    --jp-layout-color3: #383838;\n",
       "                }\n",
       "\n",
       "                .geemap-colab {\n",
       "                    background-color: var(--colab-primary-surface-color, white);\n",
       "                }\n",
       "\n",
       "                .geemap-colab .jupyter-button {\n",
       "                    --jp-layout-color3: var(--colab-primary-surface-color, white);\n",
       "                }\n",
       "            </style>\n",
       "            "
      ],
      "text/plain": [
       "<IPython.core.display.HTML object>"
      ]
     },
     "metadata": {},
     "output_type": "display_data"
    },
    {
     "data": {
      "text/plain": [
       "('2022-12-15', '2023-02-13')"
      ]
     },
     "execution_count": 4,
     "metadata": {},
     "output_type": "execute_result"
    }
   ],
   "source": [
    "start_date = (\n",
    "        event['dateoccurence'].date() - pd.Timedelta(days=60)\n",
    "    ).strftime(\"%Y-%m-%d\")\n",
    "end_date = event['dateoccurence'].date().strftime(\"%Y-%m-%d\")\n",
    "\n",
    "start_date, end_date"
   ]
  },
  {
   "cell_type": "code",
   "execution_count": 5,
   "id": "50b10cba",
   "metadata": {},
   "outputs": [
    {
     "data": {
      "text/html": [
       "\n",
       "            <style>\n",
       "                .geemap-dark {\n",
       "                    --jp-widgets-color: white;\n",
       "                    --jp-widgets-label-color: white;\n",
       "                    --jp-ui-font-color1: white;\n",
       "                    --jp-layout-color2: #454545;\n",
       "                    background-color: #383838;\n",
       "                }\n",
       "\n",
       "                .geemap-dark .jupyter-button {\n",
       "                    --jp-layout-color3: #383838;\n",
       "                }\n",
       "\n",
       "                .geemap-colab {\n",
       "                    background-color: var(--colab-primary-surface-color, white);\n",
       "                }\n",
       "\n",
       "                .geemap-colab .jupyter-button {\n",
       "                    --jp-layout-color3: var(--colab-primary-surface-color, white);\n",
       "                }\n",
       "            </style>\n",
       "            "
      ],
      "text/plain": [
       "<IPython.core.display.HTML object>"
      ]
     },
     "metadata": {},
     "output_type": "display_data"
    },
    {
     "data": {
      "application/vnd.jupyter.widget-view+json": {
       "model_id": "ed8886e8b0914cfea517c95940c45743",
       "version_major": 2,
       "version_minor": 0
      },
      "text/plain": [
       "Map(center=[-36.93130544085776, 174.7018805231759], controls=(WidgetControl(options=['position', 'transparent_…"
      ]
     },
     "execution_count": 5,
     "metadata": {},
     "output_type": "execute_result"
    }
   ],
   "source": [
    "s2cloudless = S2Cloudless(ee)\n",
    "\n",
    "point = event['geometry']\n",
    "# Extract coordinates from Shapely Point\n",
    "lon = point.x\n",
    "lat = point.y\n",
    "\n",
    "# Create Earth Engine Point geometry\n",
    "aoi = ee.Geometry.Point([lon, lat]).buffer(1000)\n",
    "\n",
    "# start_date\n",
    "# end_date,\n",
    "buffer=50\n",
    "cloud_filter=30\n",
    "\n",
    "m_cloud_free = s2cloudless.cloud_free_map(aoi, start_date, end_date, buffer=buffer, cloud_filter=cloud_filter)\n",
    "m_cloud_free.addLayer(ee.Geometry.Point([lon, lat]), {'color': 'red'}, 'My Pinpoint')\n",
    "m_cloud_free"
   ]
  },
  {
   "cell_type": "markdown",
   "id": "01e7c284",
   "metadata": {},
   "source": [
    "## Export all `tif` file"
   ]
  },
  {
   "cell_type": "code",
   "execution_count": 6,
   "id": "1f0d2c18",
   "metadata": {},
   "outputs": [
    {
     "data": {
      "text/html": [
       "\n",
       "            <style>\n",
       "                .geemap-dark {\n",
       "                    --jp-widgets-color: white;\n",
       "                    --jp-widgets-label-color: white;\n",
       "                    --jp-ui-font-color1: white;\n",
       "                    --jp-layout-color2: #454545;\n",
       "                    background-color: #383838;\n",
       "                }\n",
       "\n",
       "                .geemap-dark .jupyter-button {\n",
       "                    --jp-layout-color3: #383838;\n",
       "                }\n",
       "\n",
       "                .geemap-colab {\n",
       "                    background-color: var(--colab-primary-surface-color, white);\n",
       "                }\n",
       "\n",
       "                .geemap-colab .jupyter-button {\n",
       "                    --jp-layout-color3: var(--colab-primary-surface-color, white);\n",
       "                }\n",
       "            </style>\n",
       "            "
      ],
      "text/plain": [
       "<IPython.core.display.HTML object>"
      ]
     },
     "metadata": {},
     "output_type": "display_data"
    },
    {
     "data": {
      "text/plain": [
       "'Filename ./data/4_change_detection/tif/0_174.701880487593_-36.931306466746_2022-11-15_2023-02-07.tif'"
      ]
     },
     "metadata": {},
     "output_type": "display_data"
    },
    {
     "data": {
      "image/png": "[encoded data removed]",
      "text/plain": [
       "<IPython.core.display.Image object>"
      ]
     },
     "metadata": {},
     "output_type": "display_data"
    },
    {
     "data": {
      "text/plain": [
       "'Filename ./data/4_change_detection/tif/1_174.70574721288_-36.9242685339089_2022-11-01_2023-01-24.tif'"
      ]
     },
     "metadata": {},
     "output_type": "display_data"
    },
    {
     "data": {
      "image/png": "[encoded data removed]",
      "text/plain": [
       "<IPython.core.display.Image object>"
      ]
     },
     "metadata": {},
     "output_type": "display_data"
    },
    {
     "data": {
      "text/plain": [
       "'Filename ./data/4_change_detection/tif/2_174.738317563251_-36.8673683761872_2022-11-02_2023-01-25.tif'"
      ]
     },
     "metadata": {},
     "output_type": "display_data"
    },
    {
     "data": {
      "image/png": "[encoded data removed]",
      "text/plain": [
       "<IPython.core.display.Image object>"
      ]
     },
     "metadata": {},
     "output_type": "display_data"
    },
    {
     "data": {
      "text/plain": [
       "'Filename ./data/4_change_detection/tif/3_174.655298082793_-36.8615929062174_2022-11-15_2023-02-07.tif'"
      ]
     },
     "metadata": {},
     "output_type": "display_data"
    },
    {
     "data": {
      "image/png": "[encoded data removed]",
      "text/plain": [
       "<IPython.core.display.Image object>"
      ]
     },
     "metadata": {},
     "output_type": "display_data"
    },
    {
     "data": {
      "text/plain": [
       "'Filename ./data/4_change_detection/tif/4_174.728126662222_-36.8177384118568_2022-11-02_2023-01-25.tif'"
      ]
     },
     "metadata": {},
     "output_type": "display_data"
    },
    {
     "data": {
      "image/png": "[encoded data removed]",
      "text/plain": [
       "<IPython.core.display.Image object>"
      ]
     },
     "metadata": {},
     "output_type": "display_data"
    },
    {
     "data": {
      "text/plain": [
       "'Filename ./data/4_change_detection/tif/5_174.767440064505_-36.9257813698387_2022-11-02_2023-01-25.tif'"
      ]
     },
     "metadata": {},
     "output_type": "display_data"
    },
    {
     "data": {
      "image/png": "[encoded data removed]",
      "text/plain": [
       "<IPython.core.display.Image object>"
      ]
     },
     "metadata": {},
     "output_type": "display_data"
    },
    {
     "data": {
      "text/plain": [
       "'Filename ./data/4_change_detection/tif/6_174.702992745634_-36.927593097499_2022-11-15_2023-02-07.tif'"
      ]
     },
     "metadata": {},
     "output_type": "display_data"
    },
    {
     "data": {
      "image/png": "[encoded data removed]",
      "text/plain": [
       "<IPython.core.display.Image object>"
      ]
     },
     "metadata": {},
     "output_type": "display_data"
    },
    {
     "data": {
      "text/plain": [
       "'Filename ./data/4_change_detection/tif/7_174.653319614685_-37.0943919015828_2022-11-02_2023-01-25.tif'"
      ]
     },
     "metadata": {},
     "output_type": "display_data"
    },
    {
     "data": {
      "image/png": "[encoded data removed]",
      "text/plain": [
       "<IPython.core.display.Image object>"
      ]
     },
     "metadata": {},
     "output_type": "display_data"
    },
    {
     "data": {
      "text/plain": [
       "'Filename ./data/4_change_detection/tif/8_174.746297568181_-36.8198594698531_2022-10-28_2023-01-20.tif'"
      ]
     },
     "metadata": {},
     "output_type": "display_data"
    },
    {
     "data": {
      "image/png": "[encoded data removed]",
      "text/plain": [
       "<IPython.core.display.Image object>"
      ]
     },
     "metadata": {},
     "output_type": "display_data"
    },
    {
     "data": {
      "text/plain": [
       "'Filename ./data/4_change_detection/tif/9_174.716829737716_-36.9256941844427_2022-10-29_2023-01-21.tif'"
      ]
     },
     "metadata": {},
     "output_type": "display_data"
    },
    {
     "data": {
      "image/png": "[encoded data removed]",
      "text/plain": [
       "<IPython.core.display.Image object>"
      ]
     },
     "metadata": {},
     "output_type": "display_data"
    }
   ],
   "source": [
    "out_dir = './data/4_change_detection/'\n",
    "start_date_offset = -90\n",
    "end_date_offset = -6 # s2 revisit time is 5 days, make sure we have images before the event\n",
    "# buffer=50\n",
    "# cloud_filter=30\n",
    "# s2cloudless=S2Cloudless(ee)\n",
    "\n",
    "for idx, event in gdf[:10].iterrows():\n",
    "    filepath_tif, filepath_rgb, filepath_with_marker = get_sentinel_image_thumbnail(\n",
    "        ee,\n",
    "        s2cloudless,\n",
    "        event,\n",
    "        idx,\n",
    "        out_dir,\n",
    "        start_date_offset=start_date_offset,\n",
    "        end_date_offset=end_date_offset,\n",
    "        buffer=buffer,\n",
    "        cloud_filter=cloud_filter,\n",
    "    )\n",
    "\n",
    "    display(f\"Filename {filepath_tif}\")\n",
    "    display(Image(filename=filepath_with_marker))"
   ]
  }
 ],
 "metadata": {
  "kernelspec": {
   "display_name": "geo",
   "language": "python",
   "name": "python3"
  },
  "language_info": {
   "codemirror_mode": {
    "name": "ipython",
    "version": 3
   },
   "file_extension": ".py",
   "mimetype": "text/x-python",
   "name": "python",
   "nbconvert_exporter": "python",
   "pygments_lexer": "ipython3",
   "version": "3.12.12"
  }
 },
 "nbformat": 4,
 "nbformat_minor": 5
}
